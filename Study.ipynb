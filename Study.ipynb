{
 "cells": [
  {
   "cell_type": "markdown",
   "id": "a5e8a239-7734-478f-a17f-56f5df52bda2",
   "metadata": {},
   "source": [
    "## Load dataframe"
   ]
  },
  {
   "cell_type": "code",
   "execution_count": 1,
   "id": "daee7ff9-abaa-4973-8918-591b0cc0fb0f",
   "metadata": {},
   "outputs": [],
   "source": [
    "import pandas as pd"
   ]
  },
  {
   "cell_type": "code",
   "execution_count": 2,
   "id": "ffbfc4db-3418-4d15-8478-d39b2ed90c04",
   "metadata": {},
   "outputs": [],
   "source": [
    "df = pd.read_csv(\"datasets/data-small/TG_STAID000001.txt\", skiprows=20, parse_dates=[\"    DATE\"])"
   ]
  },
  {
   "cell_type": "code",
   "execution_count": 3,
   "id": "19b60bec-b144-489d-b3c5-c8ec375815a6",
   "metadata": {},
   "outputs": [
    {
     "data": {
      "text/html": [
       "<div>\n",
       "<style scoped>\n",
       "    .dataframe tbody tr th:only-of-type {\n",
       "        vertical-align: middle;\n",
       "    }\n",
       "\n",
       "    .dataframe tbody tr th {\n",
       "        vertical-align: top;\n",
       "    }\n",
       "\n",
       "    .dataframe thead th {\n",
       "        text-align: right;\n",
       "    }\n",
       "</style>\n",
       "<table border=\"1\" class=\"dataframe\">\n",
       "  <thead>\n",
       "    <tr style=\"text-align: right;\">\n",
       "      <th></th>\n",
       "      <th>STAID</th>\n",
       "      <th>SOUID</th>\n",
       "      <th>DATE</th>\n",
       "      <th>TG</th>\n",
       "      <th>Q_TG</th>\n",
       "    </tr>\n",
       "  </thead>\n",
       "  <tbody>\n",
       "    <tr>\n",
       "      <th>0</th>\n",
       "      <td>1</td>\n",
       "      <td>35381</td>\n",
       "      <td>1860-01-01</td>\n",
       "      <td>21</td>\n",
       "      <td>0</td>\n",
       "    </tr>\n",
       "    <tr>\n",
       "      <th>1</th>\n",
       "      <td>1</td>\n",
       "      <td>35381</td>\n",
       "      <td>1860-01-02</td>\n",
       "      <td>46</td>\n",
       "      <td>0</td>\n",
       "    </tr>\n",
       "    <tr>\n",
       "      <th>2</th>\n",
       "      <td>1</td>\n",
       "      <td>35381</td>\n",
       "      <td>1860-01-03</td>\n",
       "      <td>31</td>\n",
       "      <td>0</td>\n",
       "    </tr>\n",
       "    <tr>\n",
       "      <th>3</th>\n",
       "      <td>1</td>\n",
       "      <td>35381</td>\n",
       "      <td>1860-01-04</td>\n",
       "      <td>37</td>\n",
       "      <td>0</td>\n",
       "    </tr>\n",
       "    <tr>\n",
       "      <th>4</th>\n",
       "      <td>1</td>\n",
       "      <td>35381</td>\n",
       "      <td>1860-01-05</td>\n",
       "      <td>31</td>\n",
       "      <td>0</td>\n",
       "    </tr>\n",
       "    <tr>\n",
       "      <th>...</th>\n",
       "      <td>...</td>\n",
       "      <td>...</td>\n",
       "      <td>...</td>\n",
       "      <td>...</td>\n",
       "      <td>...</td>\n",
       "    </tr>\n",
       "    <tr>\n",
       "      <th>59316</th>\n",
       "      <td>1</td>\n",
       "      <td>35381</td>\n",
       "      <td>2022-05-27</td>\n",
       "      <td>-9999</td>\n",
       "      <td>9</td>\n",
       "    </tr>\n",
       "    <tr>\n",
       "      <th>59317</th>\n",
       "      <td>1</td>\n",
       "      <td>35381</td>\n",
       "      <td>2022-05-28</td>\n",
       "      <td>-9999</td>\n",
       "      <td>9</td>\n",
       "    </tr>\n",
       "    <tr>\n",
       "      <th>59318</th>\n",
       "      <td>1</td>\n",
       "      <td>35381</td>\n",
       "      <td>2022-05-29</td>\n",
       "      <td>-9999</td>\n",
       "      <td>9</td>\n",
       "    </tr>\n",
       "    <tr>\n",
       "      <th>59319</th>\n",
       "      <td>1</td>\n",
       "      <td>35381</td>\n",
       "      <td>2022-05-30</td>\n",
       "      <td>-9999</td>\n",
       "      <td>9</td>\n",
       "    </tr>\n",
       "    <tr>\n",
       "      <th>59320</th>\n",
       "      <td>1</td>\n",
       "      <td>35381</td>\n",
       "      <td>2022-05-31</td>\n",
       "      <td>-9999</td>\n",
       "      <td>9</td>\n",
       "    </tr>\n",
       "  </tbody>\n",
       "</table>\n",
       "<p>59321 rows × 5 columns</p>\n",
       "</div>"
      ],
      "text/plain": [
       "       STAID   SOUID       DATE     TG   Q_TG\n",
       "0          1   35381 1860-01-01     21      0\n",
       "1          1   35381 1860-01-02     46      0\n",
       "2          1   35381 1860-01-03     31      0\n",
       "3          1   35381 1860-01-04     37      0\n",
       "4          1   35381 1860-01-05     31      0\n",
       "...      ...     ...        ...    ...    ...\n",
       "59316      1   35381 2022-05-27  -9999      9\n",
       "59317      1   35381 2022-05-28  -9999      9\n",
       "59318      1   35381 2022-05-29  -9999      9\n",
       "59319      1   35381 2022-05-30  -9999      9\n",
       "59320      1   35381 2022-05-31  -9999      9\n",
       "\n",
       "[59321 rows x 5 columns]"
      ]
     },
     "execution_count": 3,
     "metadata": {},
     "output_type": "execute_result"
    }
   ],
   "source": [
    "df"
   ]
  },
  {
   "cell_type": "markdown",
   "id": "79ec24dc-aa36-4ce3-9082-47671476ec44",
   "metadata": {},
   "source": [
    "## Show some rows"
   ]
  },
  {
   "cell_type": "code",
   "execution_count": 4,
   "id": "20a529ff-e824-44cb-9647-cf59a9887985",
   "metadata": {},
   "outputs": [
    {
     "data": {
      "text/html": [
       "<div>\n",
       "<style scoped>\n",
       "    .dataframe tbody tr th:only-of-type {\n",
       "        vertical-align: middle;\n",
       "    }\n",
       "\n",
       "    .dataframe tbody tr th {\n",
       "        vertical-align: top;\n",
       "    }\n",
       "\n",
       "    .dataframe thead th {\n",
       "        text-align: right;\n",
       "    }\n",
       "</style>\n",
       "<table border=\"1\" class=\"dataframe\">\n",
       "  <thead>\n",
       "    <tr style=\"text-align: right;\">\n",
       "      <th></th>\n",
       "      <th>STAID</th>\n",
       "      <th>SOUID</th>\n",
       "      <th>DATE</th>\n",
       "      <th>TG</th>\n",
       "      <th>Q_TG</th>\n",
       "    </tr>\n",
       "  </thead>\n",
       "  <tbody>\n",
       "    <tr>\n",
       "      <th>10</th>\n",
       "      <td>1</td>\n",
       "      <td>35381</td>\n",
       "      <td>1860-01-11</td>\n",
       "      <td>-5</td>\n",
       "      <td>0</td>\n",
       "    </tr>\n",
       "    <tr>\n",
       "      <th>11</th>\n",
       "      <td>1</td>\n",
       "      <td>35381</td>\n",
       "      <td>1860-01-12</td>\n",
       "      <td>-18</td>\n",
       "      <td>0</td>\n",
       "    </tr>\n",
       "    <tr>\n",
       "      <th>12</th>\n",
       "      <td>1</td>\n",
       "      <td>35381</td>\n",
       "      <td>1860-01-13</td>\n",
       "      <td>-27</td>\n",
       "      <td>0</td>\n",
       "    </tr>\n",
       "    <tr>\n",
       "      <th>13</th>\n",
       "      <td>1</td>\n",
       "      <td>35381</td>\n",
       "      <td>1860-01-14</td>\n",
       "      <td>-26</td>\n",
       "      <td>0</td>\n",
       "    </tr>\n",
       "    <tr>\n",
       "      <th>14</th>\n",
       "      <td>1</td>\n",
       "      <td>35381</td>\n",
       "      <td>1860-01-15</td>\n",
       "      <td>-37</td>\n",
       "      <td>0</td>\n",
       "    </tr>\n",
       "    <tr>\n",
       "      <th>15</th>\n",
       "      <td>1</td>\n",
       "      <td>35381</td>\n",
       "      <td>1860-01-16</td>\n",
       "      <td>-9</td>\n",
       "      <td>0</td>\n",
       "    </tr>\n",
       "    <tr>\n",
       "      <th>16</th>\n",
       "      <td>1</td>\n",
       "      <td>35381</td>\n",
       "      <td>1860-01-17</td>\n",
       "      <td>7</td>\n",
       "      <td>0</td>\n",
       "    </tr>\n",
       "    <tr>\n",
       "      <th>17</th>\n",
       "      <td>1</td>\n",
       "      <td>35381</td>\n",
       "      <td>1860-01-18</td>\n",
       "      <td>-6</td>\n",
       "      <td>0</td>\n",
       "    </tr>\n",
       "    <tr>\n",
       "      <th>18</th>\n",
       "      <td>1</td>\n",
       "      <td>35381</td>\n",
       "      <td>1860-01-19</td>\n",
       "      <td>-16</td>\n",
       "      <td>0</td>\n",
       "    </tr>\n",
       "    <tr>\n",
       "      <th>19</th>\n",
       "      <td>1</td>\n",
       "      <td>35381</td>\n",
       "      <td>1860-01-20</td>\n",
       "      <td>-19</td>\n",
       "      <td>0</td>\n",
       "    </tr>\n",
       "  </tbody>\n",
       "</table>\n",
       "</div>"
      ],
      "text/plain": [
       "    STAID   SOUID       DATE     TG   Q_TG\n",
       "10      1   35381 1860-01-11     -5      0\n",
       "11      1   35381 1860-01-12    -18      0\n",
       "12      1   35381 1860-01-13    -27      0\n",
       "13      1   35381 1860-01-14    -26      0\n",
       "14      1   35381 1860-01-15    -37      0\n",
       "15      1   35381 1860-01-16     -9      0\n",
       "16      1   35381 1860-01-17      7      0\n",
       "17      1   35381 1860-01-18     -6      0\n",
       "18      1   35381 1860-01-19    -16      0\n",
       "19      1   35381 1860-01-20    -19      0"
      ]
     },
     "execution_count": 4,
     "metadata": {},
     "output_type": "execute_result"
    }
   ],
   "source": [
    "df[10:20]"
   ]
  },
  {
   "cell_type": "markdown",
   "id": "f2cdde57-6b67-4204-9d09-28c3c68062cc",
   "metadata": {},
   "source": [
    "## Show some columns"
   ]
  },
  {
   "cell_type": "code",
   "execution_count": 5,
   "id": "4172368b-ec78-4448-8e2a-b8a51a699213",
   "metadata": {},
   "outputs": [
    {
     "data": {
      "text/plain": [
       "Index(['STAID', ' SOUID', '    DATE', '   TG', ' Q_TG'], dtype='object')"
      ]
     },
     "execution_count": 5,
     "metadata": {},
     "output_type": "execute_result"
    }
   ],
   "source": [
    "df.columns"
   ]
  },
  {
   "cell_type": "code",
   "execution_count": 6,
   "id": "c4caa889-5db5-4c91-acb1-1daa4f12dff3",
   "metadata": {},
   "outputs": [
    {
     "data": {
      "text/plain": [
       "0       1860-01-01\n",
       "1       1860-01-02\n",
       "2       1860-01-03\n",
       "3       1860-01-04\n",
       "4       1860-01-05\n",
       "           ...    \n",
       "59316   2022-05-27\n",
       "59317   2022-05-28\n",
       "59318   2022-05-29\n",
       "59319   2022-05-30\n",
       "59320   2022-05-31\n",
       "Name:     DATE, Length: 59321, dtype: datetime64[ns]"
      ]
     },
     "execution_count": 6,
     "metadata": {},
     "output_type": "execute_result"
    }
   ],
   "source": [
    "df[\"    DATE\"]"
   ]
  },
  {
   "cell_type": "code",
   "execution_count": 7,
   "id": "07dbe920-ca9c-4d0e-8bd9-8f513d9b22b1",
   "metadata": {},
   "outputs": [
    {
     "data": {
      "text/html": [
       "<div>\n",
       "<style scoped>\n",
       "    .dataframe tbody tr th:only-of-type {\n",
       "        vertical-align: middle;\n",
       "    }\n",
       "\n",
       "    .dataframe tbody tr th {\n",
       "        vertical-align: top;\n",
       "    }\n",
       "\n",
       "    .dataframe thead th {\n",
       "        text-align: right;\n",
       "    }\n",
       "</style>\n",
       "<table border=\"1\" class=\"dataframe\">\n",
       "  <thead>\n",
       "    <tr style=\"text-align: right;\">\n",
       "      <th></th>\n",
       "      <th>TG</th>\n",
       "      <th>DATE</th>\n",
       "    </tr>\n",
       "  </thead>\n",
       "  <tbody>\n",
       "    <tr>\n",
       "      <th>0</th>\n",
       "      <td>21</td>\n",
       "      <td>1860-01-01</td>\n",
       "    </tr>\n",
       "    <tr>\n",
       "      <th>1</th>\n",
       "      <td>46</td>\n",
       "      <td>1860-01-02</td>\n",
       "    </tr>\n",
       "    <tr>\n",
       "      <th>2</th>\n",
       "      <td>31</td>\n",
       "      <td>1860-01-03</td>\n",
       "    </tr>\n",
       "    <tr>\n",
       "      <th>3</th>\n",
       "      <td>37</td>\n",
       "      <td>1860-01-04</td>\n",
       "    </tr>\n",
       "    <tr>\n",
       "      <th>4</th>\n",
       "      <td>31</td>\n",
       "      <td>1860-01-05</td>\n",
       "    </tr>\n",
       "    <tr>\n",
       "      <th>...</th>\n",
       "      <td>...</td>\n",
       "      <td>...</td>\n",
       "    </tr>\n",
       "    <tr>\n",
       "      <th>59316</th>\n",
       "      <td>-9999</td>\n",
       "      <td>2022-05-27</td>\n",
       "    </tr>\n",
       "    <tr>\n",
       "      <th>59317</th>\n",
       "      <td>-9999</td>\n",
       "      <td>2022-05-28</td>\n",
       "    </tr>\n",
       "    <tr>\n",
       "      <th>59318</th>\n",
       "      <td>-9999</td>\n",
       "      <td>2022-05-29</td>\n",
       "    </tr>\n",
       "    <tr>\n",
       "      <th>59319</th>\n",
       "      <td>-9999</td>\n",
       "      <td>2022-05-30</td>\n",
       "    </tr>\n",
       "    <tr>\n",
       "      <th>59320</th>\n",
       "      <td>-9999</td>\n",
       "      <td>2022-05-31</td>\n",
       "    </tr>\n",
       "  </tbody>\n",
       "</table>\n",
       "<p>59321 rows × 2 columns</p>\n",
       "</div>"
      ],
      "text/plain": [
       "         TG       DATE\n",
       "0        21 1860-01-01\n",
       "1        46 1860-01-02\n",
       "2        31 1860-01-03\n",
       "3        37 1860-01-04\n",
       "4        31 1860-01-05\n",
       "...     ...        ...\n",
       "59316 -9999 2022-05-27\n",
       "59317 -9999 2022-05-28\n",
       "59318 -9999 2022-05-29\n",
       "59319 -9999 2022-05-30\n",
       "59320 -9999 2022-05-31\n",
       "\n",
       "[59321 rows x 2 columns]"
      ]
     },
     "execution_count": 7,
     "metadata": {},
     "output_type": "execute_result"
    }
   ],
   "source": [
    "df[['   TG', '    DATE']]"
   ]
  },
  {
   "cell_type": "code",
   "execution_count": 8,
   "id": "f24944ae-db9f-4163-87d2-200c120fb421",
   "metadata": {},
   "outputs": [
    {
     "data": {
      "text/html": [
       "<div>\n",
       "<style scoped>\n",
       "    .dataframe tbody tr th:only-of-type {\n",
       "        vertical-align: middle;\n",
       "    }\n",
       "\n",
       "    .dataframe tbody tr th {\n",
       "        vertical-align: top;\n",
       "    }\n",
       "\n",
       "    .dataframe thead th {\n",
       "        text-align: right;\n",
       "    }\n",
       "</style>\n",
       "<table border=\"1\" class=\"dataframe\">\n",
       "  <thead>\n",
       "    <tr style=\"text-align: right;\">\n",
       "      <th></th>\n",
       "      <th>STAID</th>\n",
       "      <th>SOUID</th>\n",
       "      <th>DATE</th>\n",
       "      <th>TG</th>\n",
       "      <th>Q_TG</th>\n",
       "    </tr>\n",
       "  </thead>\n",
       "  <tbody>\n",
       "    <tr>\n",
       "      <th>0</th>\n",
       "      <td>1</td>\n",
       "      <td>35381</td>\n",
       "      <td>1860-01-01</td>\n",
       "      <td>21</td>\n",
       "      <td>0</td>\n",
       "    </tr>\n",
       "    <tr>\n",
       "      <th>1</th>\n",
       "      <td>1</td>\n",
       "      <td>35381</td>\n",
       "      <td>1860-01-02</td>\n",
       "      <td>46</td>\n",
       "      <td>0</td>\n",
       "    </tr>\n",
       "    <tr>\n",
       "      <th>2</th>\n",
       "      <td>1</td>\n",
       "      <td>35381</td>\n",
       "      <td>1860-01-03</td>\n",
       "      <td>31</td>\n",
       "      <td>0</td>\n",
       "    </tr>\n",
       "    <tr>\n",
       "      <th>3</th>\n",
       "      <td>1</td>\n",
       "      <td>35381</td>\n",
       "      <td>1860-01-04</td>\n",
       "      <td>37</td>\n",
       "      <td>0</td>\n",
       "    </tr>\n",
       "    <tr>\n",
       "      <th>4</th>\n",
       "      <td>1</td>\n",
       "      <td>35381</td>\n",
       "      <td>1860-01-05</td>\n",
       "      <td>31</td>\n",
       "      <td>0</td>\n",
       "    </tr>\n",
       "    <tr>\n",
       "      <th>...</th>\n",
       "      <td>...</td>\n",
       "      <td>...</td>\n",
       "      <td>...</td>\n",
       "      <td>...</td>\n",
       "      <td>...</td>\n",
       "    </tr>\n",
       "    <tr>\n",
       "      <th>59316</th>\n",
       "      <td>1</td>\n",
       "      <td>35381</td>\n",
       "      <td>2022-05-27</td>\n",
       "      <td>-9999</td>\n",
       "      <td>9</td>\n",
       "    </tr>\n",
       "    <tr>\n",
       "      <th>59317</th>\n",
       "      <td>1</td>\n",
       "      <td>35381</td>\n",
       "      <td>2022-05-28</td>\n",
       "      <td>-9999</td>\n",
       "      <td>9</td>\n",
       "    </tr>\n",
       "    <tr>\n",
       "      <th>59318</th>\n",
       "      <td>1</td>\n",
       "      <td>35381</td>\n",
       "      <td>2022-05-29</td>\n",
       "      <td>-9999</td>\n",
       "      <td>9</td>\n",
       "    </tr>\n",
       "    <tr>\n",
       "      <th>59319</th>\n",
       "      <td>1</td>\n",
       "      <td>35381</td>\n",
       "      <td>2022-05-30</td>\n",
       "      <td>-9999</td>\n",
       "      <td>9</td>\n",
       "    </tr>\n",
       "    <tr>\n",
       "      <th>59320</th>\n",
       "      <td>1</td>\n",
       "      <td>35381</td>\n",
       "      <td>2022-05-31</td>\n",
       "      <td>-9999</td>\n",
       "      <td>9</td>\n",
       "    </tr>\n",
       "  </tbody>\n",
       "</table>\n",
       "<p>59321 rows × 5 columns</p>\n",
       "</div>"
      ],
      "text/plain": [
       "       STAID   SOUID       DATE     TG   Q_TG\n",
       "0          1   35381 1860-01-01     21      0\n",
       "1          1   35381 1860-01-02     46      0\n",
       "2          1   35381 1860-01-03     31      0\n",
       "3          1   35381 1860-01-04     37      0\n",
       "4          1   35381 1860-01-05     31      0\n",
       "...      ...     ...        ...    ...    ...\n",
       "59316      1   35381 2022-05-27  -9999      9\n",
       "59317      1   35381 2022-05-28  -9999      9\n",
       "59318      1   35381 2022-05-29  -9999      9\n",
       "59319      1   35381 2022-05-30  -9999      9\n",
       "59320      1   35381 2022-05-31  -9999      9\n",
       "\n",
       "[59321 rows x 5 columns]"
      ]
     },
     "execution_count": 8,
     "metadata": {},
     "output_type": "execute_result"
    }
   ],
   "source": [
    "df"
   ]
  },
  {
   "cell_type": "markdown",
   "id": "6b5974de-d56a-4295-a7d5-328a75d7c822",
   "metadata": {},
   "source": [
    "## Simple statistics and filtering"
   ]
  },
  {
   "cell_type": "code",
   "execution_count": 9,
   "id": "0e37c901-d3f5-4d9a-8381-6460fb5ca40f",
   "metadata": {},
   "outputs": [
    {
     "data": {
      "text/plain": [
       "np.float64(-991.1500649011311)"
      ]
     },
     "execution_count": 9,
     "metadata": {},
     "output_type": "execute_result"
    }
   ],
   "source": [
    "df['   TG'].mean()"
   ]
  },
  {
   "cell_type": "code",
   "execution_count": 10,
   "id": "d63a73f4-406f-4492-88c1-230b1c8bcd5d",
   "metadata": {},
   "outputs": [
    {
     "data": {
      "text/plain": [
       "pandas.core.series.Series"
      ]
     },
     "execution_count": 10,
     "metadata": {},
     "output_type": "execute_result"
    }
   ],
   "source": [
    "type(df['   TG'])"
   ]
  },
  {
   "cell_type": "code",
   "execution_count": 11,
   "id": "74c674fd-f818-4496-b2de-fccfa3c10e88",
   "metadata": {},
   "outputs": [
    {
     "data": {
      "text/plain": [
       "np.float64(6.360787526128467)"
      ]
     },
     "execution_count": 11,
     "metadata": {},
     "output_type": "execute_result"
    }
   ],
   "source": [
    "df.loc[df['   TG' ] != -9999]['   TG'].mean() / 10 #Is a series now"
   ]
  },
  {
   "cell_type": "code",
   "execution_count": 12,
   "id": "d9dc4d89-5f74-4bf8-a29a-4f4a313149f1",
   "metadata": {},
   "outputs": [
    {
     "data": {
      "text/plain": [
       "np.float64(26.2)"
      ]
     },
     "execution_count": 12,
     "metadata": {},
     "output_type": "execute_result"
    }
   ],
   "source": [
    "df.loc[df['   TG' ] != -9999]['   TG'].max() / 10 #Is a series now"
   ]
  },
  {
   "cell_type": "code",
   "execution_count": 13,
   "id": "7dde82e9-27d8-46c2-8706-84d3592af0c6",
   "metadata": {},
   "outputs": [
    {
     "data": {
      "text/plain": [
       "np.float64(-28.8)"
      ]
     },
     "execution_count": 13,
     "metadata": {},
     "output_type": "execute_result"
    }
   ],
   "source": [
    "df.loc[df['   TG' ] != -9999]['   TG'].min() / 10 #Is a series now"
   ]
  },
  {
   "cell_type": "code",
   "execution_count": 14,
   "id": "b9bfba76-cee9-43ab-bc6e-1b94ef4ef3b7",
   "metadata": {},
   "outputs": [
    {
     "data": {
      "text/plain": [
       "<Axes: >"
      ]
     },
     "execution_count": 14,
     "metadata": {},
     "output_type": "execute_result"
    },
    {
     "data": {
      "image/png": "[encoded data removed]",
      "text/plain": [
       "<Figure size 640x480 with 1 Axes>"
      ]
     },
     "metadata": {},
     "output_type": "display_data"
    }
   ],
   "source": [
    "df.loc[df['   TG' ] != -9999]['   TG'].hist() #Is a series now"
   ]
  },
  {
   "cell_type": "markdown",
   "id": "9e4645dd-4f9f-4273-ae96-12e3a3116a62",
   "metadata": {},
   "source": [
    "## Get specific cells"
   ]
  },
  {
   "cell_type": "code",
   "execution_count": 15,
   "id": "55329cc5-95e6-42cd-a5b7-c185e33129e3",
   "metadata": {},
   "outputs": [
    {
     "data": {
      "text/html": [
       "<div>\n",
       "<style scoped>\n",
       "    .dataframe tbody tr th:only-of-type {\n",
       "        vertical-align: middle;\n",
       "    }\n",
       "\n",
       "    .dataframe tbody tr th {\n",
       "        vertical-align: top;\n",
       "    }\n",
       "\n",
       "    .dataframe thead th {\n",
       "        text-align: right;\n",
       "    }\n",
       "</style>\n",
       "<table border=\"1\" class=\"dataframe\">\n",
       "  <thead>\n",
       "    <tr style=\"text-align: right;\">\n",
       "      <th></th>\n",
       "      <th>STAID</th>\n",
       "      <th>SOUID</th>\n",
       "      <th>DATE</th>\n",
       "      <th>TG</th>\n",
       "      <th>Q_TG</th>\n",
       "    </tr>\n",
       "  </thead>\n",
       "  <tbody>\n",
       "    <tr>\n",
       "      <th>0</th>\n",
       "      <td>1</td>\n",
       "      <td>35381</td>\n",
       "      <td>1860-01-01</td>\n",
       "      <td>21</td>\n",
       "      <td>0</td>\n",
       "    </tr>\n",
       "    <tr>\n",
       "      <th>1</th>\n",
       "      <td>1</td>\n",
       "      <td>35381</td>\n",
       "      <td>1860-01-02</td>\n",
       "      <td>46</td>\n",
       "      <td>0</td>\n",
       "    </tr>\n",
       "    <tr>\n",
       "      <th>2</th>\n",
       "      <td>1</td>\n",
       "      <td>35381</td>\n",
       "      <td>1860-01-03</td>\n",
       "      <td>31</td>\n",
       "      <td>0</td>\n",
       "    </tr>\n",
       "    <tr>\n",
       "      <th>3</th>\n",
       "      <td>1</td>\n",
       "      <td>35381</td>\n",
       "      <td>1860-01-04</td>\n",
       "      <td>37</td>\n",
       "      <td>0</td>\n",
       "    </tr>\n",
       "    <tr>\n",
       "      <th>4</th>\n",
       "      <td>1</td>\n",
       "      <td>35381</td>\n",
       "      <td>1860-01-05</td>\n",
       "      <td>31</td>\n",
       "      <td>0</td>\n",
       "    </tr>\n",
       "    <tr>\n",
       "      <th>...</th>\n",
       "      <td>...</td>\n",
       "      <td>...</td>\n",
       "      <td>...</td>\n",
       "      <td>...</td>\n",
       "      <td>...</td>\n",
       "    </tr>\n",
       "    <tr>\n",
       "      <th>59316</th>\n",
       "      <td>1</td>\n",
       "      <td>35381</td>\n",
       "      <td>2022-05-27</td>\n",
       "      <td>-9999</td>\n",
       "      <td>9</td>\n",
       "    </tr>\n",
       "    <tr>\n",
       "      <th>59317</th>\n",
       "      <td>1</td>\n",
       "      <td>35381</td>\n",
       "      <td>2022-05-28</td>\n",
       "      <td>-9999</td>\n",
       "      <td>9</td>\n",
       "    </tr>\n",
       "    <tr>\n",
       "      <th>59318</th>\n",
       "      <td>1</td>\n",
       "      <td>35381</td>\n",
       "      <td>2022-05-29</td>\n",
       "      <td>-9999</td>\n",
       "      <td>9</td>\n",
       "    </tr>\n",
       "    <tr>\n",
       "      <th>59319</th>\n",
       "      <td>1</td>\n",
       "      <td>35381</td>\n",
       "      <td>2022-05-30</td>\n",
       "      <td>-9999</td>\n",
       "      <td>9</td>\n",
       "    </tr>\n",
       "    <tr>\n",
       "      <th>59320</th>\n",
       "      <td>1</td>\n",
       "      <td>35381</td>\n",
       "      <td>2022-05-31</td>\n",
       "      <td>-9999</td>\n",
       "      <td>9</td>\n",
       "    </tr>\n",
       "  </tbody>\n",
       "</table>\n",
       "<p>59321 rows × 5 columns</p>\n",
       "</div>"
      ],
      "text/plain": [
       "       STAID   SOUID       DATE     TG   Q_TG\n",
       "0          1   35381 1860-01-01     21      0\n",
       "1          1   35381 1860-01-02     46      0\n",
       "2          1   35381 1860-01-03     31      0\n",
       "3          1   35381 1860-01-04     37      0\n",
       "4          1   35381 1860-01-05     31      0\n",
       "...      ...     ...        ...    ...    ...\n",
       "59316      1   35381 2022-05-27  -9999      9\n",
       "59317      1   35381 2022-05-28  -9999      9\n",
       "59318      1   35381 2022-05-29  -9999      9\n",
       "59319      1   35381 2022-05-30  -9999      9\n",
       "59320      1   35381 2022-05-31  -9999      9\n",
       "\n",
       "[59321 rows x 5 columns]"
      ]
     },
     "execution_count": 15,
     "metadata": {},
     "output_type": "execute_result"
    }
   ],
   "source": [
    "df"
   ]
  },
  {
   "cell_type": "code",
   "execution_count": 16,
   "id": "8f6c77c9-f055-4605-afed-c4aacb799a67",
   "metadata": {},
   "outputs": [
    {
     "data": {
      "text/plain": [
       "np.float64(4.6)"
      ]
     },
     "execution_count": 16,
     "metadata": {},
     "output_type": "execute_result"
    }
   ],
   "source": [
    "df.loc[df['    DATE'] == \"1860-01-02\"]['   TG'].squeeze() / 10"
   ]
  },
  {
   "cell_type": "code",
   "execution_count": 17,
   "id": "f80c8cce-7257-4358-b946-640aaeddca4f",
   "metadata": {},
   "outputs": [
    {
     "data": {
      "text/plain": [
       "Timestamp('1868-08-16 00:00:00')"
      ]
     },
     "execution_count": 17,
     "metadata": {},
     "output_type": "execute_result"
    }
   ],
   "source": [
    "df.loc[df['   TG'] == df['   TG'].max()]['    DATE'].squeeze()"
   ]
  },
  {
   "cell_type": "code",
   "execution_count": 18,
   "id": "df087048-0f77-439d-b655-c06e5ef73ef0",
   "metadata": {},
   "outputs": [
    {
     "data": {
      "text/plain": [
       "3150    26.2\n",
       "Name:    TG, dtype: float64"
      ]
     },
     "execution_count": 18,
     "metadata": {},
     "output_type": "execute_result"
    }
   ],
   "source": [
    "df.loc[df['    DATE'] == \"1868-08-16\"]['   TG'] / 10"
   ]
  },
  {
   "cell_type": "markdown",
   "id": "3b2f1482-11d4-49fb-8e8e-ab0ad3552116",
   "metadata": {},
   "source": [
    "## Calculate new columns"
   ]
  },
  {
   "cell_type": "code",
   "execution_count": 19,
   "id": "4f492024-5ecd-47e1-a789-1cf4ebba6b76",
   "metadata": {},
   "outputs": [
    {
     "data": {
      "text/html": [
       "<div>\n",
       "<style scoped>\n",
       "    .dataframe tbody tr th:only-of-type {\n",
       "        vertical-align: middle;\n",
       "    }\n",
       "\n",
       "    .dataframe tbody tr th {\n",
       "        vertical-align: top;\n",
       "    }\n",
       "\n",
       "    .dataframe thead th {\n",
       "        text-align: right;\n",
       "    }\n",
       "</style>\n",
       "<table border=\"1\" class=\"dataframe\">\n",
       "  <thead>\n",
       "    <tr style=\"text-align: right;\">\n",
       "      <th></th>\n",
       "      <th>STAID</th>\n",
       "      <th>SOUID</th>\n",
       "      <th>DATE</th>\n",
       "      <th>TG</th>\n",
       "      <th>Q_TG</th>\n",
       "      <th>TG0</th>\n",
       "    </tr>\n",
       "  </thead>\n",
       "  <tbody>\n",
       "    <tr>\n",
       "      <th>0</th>\n",
       "      <td>1</td>\n",
       "      <td>35381</td>\n",
       "      <td>1860-01-01</td>\n",
       "      <td>21</td>\n",
       "      <td>0</td>\n",
       "      <td>21.0</td>\n",
       "    </tr>\n",
       "    <tr>\n",
       "      <th>1</th>\n",
       "      <td>1</td>\n",
       "      <td>35381</td>\n",
       "      <td>1860-01-02</td>\n",
       "      <td>46</td>\n",
       "      <td>0</td>\n",
       "      <td>46.0</td>\n",
       "    </tr>\n",
       "    <tr>\n",
       "      <th>2</th>\n",
       "      <td>1</td>\n",
       "      <td>35381</td>\n",
       "      <td>1860-01-03</td>\n",
       "      <td>31</td>\n",
       "      <td>0</td>\n",
       "      <td>31.0</td>\n",
       "    </tr>\n",
       "    <tr>\n",
       "      <th>3</th>\n",
       "      <td>1</td>\n",
       "      <td>35381</td>\n",
       "      <td>1860-01-04</td>\n",
       "      <td>37</td>\n",
       "      <td>0</td>\n",
       "      <td>37.0</td>\n",
       "    </tr>\n",
       "    <tr>\n",
       "      <th>4</th>\n",
       "      <td>1</td>\n",
       "      <td>35381</td>\n",
       "      <td>1860-01-05</td>\n",
       "      <td>31</td>\n",
       "      <td>0</td>\n",
       "      <td>31.0</td>\n",
       "    </tr>\n",
       "    <tr>\n",
       "      <th>...</th>\n",
       "      <td>...</td>\n",
       "      <td>...</td>\n",
       "      <td>...</td>\n",
       "      <td>...</td>\n",
       "      <td>...</td>\n",
       "      <td>...</td>\n",
       "    </tr>\n",
       "    <tr>\n",
       "      <th>59316</th>\n",
       "      <td>1</td>\n",
       "      <td>35381</td>\n",
       "      <td>2022-05-27</td>\n",
       "      <td>-9999</td>\n",
       "      <td>9</td>\n",
       "      <td>NaN</td>\n",
       "    </tr>\n",
       "    <tr>\n",
       "      <th>59317</th>\n",
       "      <td>1</td>\n",
       "      <td>35381</td>\n",
       "      <td>2022-05-28</td>\n",
       "      <td>-9999</td>\n",
       "      <td>9</td>\n",
       "      <td>NaN</td>\n",
       "    </tr>\n",
       "    <tr>\n",
       "      <th>59318</th>\n",
       "      <td>1</td>\n",
       "      <td>35381</td>\n",
       "      <td>2022-05-29</td>\n",
       "      <td>-9999</td>\n",
       "      <td>9</td>\n",
       "      <td>NaN</td>\n",
       "    </tr>\n",
       "    <tr>\n",
       "      <th>59319</th>\n",
       "      <td>1</td>\n",
       "      <td>35381</td>\n",
       "      <td>2022-05-30</td>\n",
       "      <td>-9999</td>\n",
       "      <td>9</td>\n",
       "      <td>NaN</td>\n",
       "    </tr>\n",
       "    <tr>\n",
       "      <th>59320</th>\n",
       "      <td>1</td>\n",
       "      <td>35381</td>\n",
       "      <td>2022-05-31</td>\n",
       "      <td>-9999</td>\n",
       "      <td>9</td>\n",
       "      <td>NaN</td>\n",
       "    </tr>\n",
       "  </tbody>\n",
       "</table>\n",
       "<p>59321 rows × 6 columns</p>\n",
       "</div>"
      ],
      "text/plain": [
       "       STAID   SOUID       DATE     TG   Q_TG   TG0\n",
       "0          1   35381 1860-01-01     21      0  21.0\n",
       "1          1   35381 1860-01-02     46      0  46.0\n",
       "2          1   35381 1860-01-03     31      0  31.0\n",
       "3          1   35381 1860-01-04     37      0  37.0\n",
       "4          1   35381 1860-01-05     31      0  31.0\n",
       "...      ...     ...        ...    ...    ...   ...\n",
       "59316      1   35381 2022-05-27  -9999      9   NaN\n",
       "59317      1   35381 2022-05-28  -9999      9   NaN\n",
       "59318      1   35381 2022-05-29  -9999      9   NaN\n",
       "59319      1   35381 2022-05-30  -9999      9   NaN\n",
       "59320      1   35381 2022-05-31  -9999      9   NaN\n",
       "\n",
       "[59321 rows x 6 columns]"
      ]
     },
     "execution_count": 19,
     "metadata": {},
     "output_type": "execute_result"
    }
   ],
   "source": [
    "import numpy as np\n",
    "df[\"TG0\"] = df['   TG'].mask(df['   TG'] == -9999, np.nan)\n",
    "df"
   ]
  },
  {
   "cell_type": "code",
   "execution_count": 20,
   "id": "701b86f2-aa91-4ca5-8f72-200107dafd4a",
   "metadata": {},
   "outputs": [],
   "source": [
    "df[\"TG\"] = df[\"TG0\"] / 10"
   ]
  },
  {
   "cell_type": "code",
   "execution_count": 21,
   "id": "f644f2c8-257e-4347-b1d5-0bb3cabb24c9",
   "metadata": {},
   "outputs": [],
   "source": [
    "df[\"Fahrenheit\"] = df[\"TG0\"] * (9/5) + 32"
   ]
  },
  {
   "cell_type": "code",
   "execution_count": 22,
   "id": "fd1f3e9a-60d0-4144-9fc4-69e2f4feed69",
   "metadata": {},
   "outputs": [
    {
     "data": {
      "text/html": [
       "<div>\n",
       "<style scoped>\n",
       "    .dataframe tbody tr th:only-of-type {\n",
       "        vertical-align: middle;\n",
       "    }\n",
       "\n",
       "    .dataframe tbody tr th {\n",
       "        vertical-align: top;\n",
       "    }\n",
       "\n",
       "    .dataframe thead th {\n",
       "        text-align: right;\n",
       "    }\n",
       "</style>\n",
       "<table border=\"1\" class=\"dataframe\">\n",
       "  <thead>\n",
       "    <tr style=\"text-align: right;\">\n",
       "      <th></th>\n",
       "      <th>STAID</th>\n",
       "      <th>SOUID</th>\n",
       "      <th>DATE</th>\n",
       "      <th>TG</th>\n",
       "      <th>Q_TG</th>\n",
       "      <th>TG0</th>\n",
       "      <th>TG</th>\n",
       "      <th>Fahrenheit</th>\n",
       "    </tr>\n",
       "  </thead>\n",
       "  <tbody>\n",
       "    <tr>\n",
       "      <th>0</th>\n",
       "      <td>1</td>\n",
       "      <td>35381</td>\n",
       "      <td>1860-01-01</td>\n",
       "      <td>21</td>\n",
       "      <td>0</td>\n",
       "      <td>21.0</td>\n",
       "      <td>2.1</td>\n",
       "      <td>69.8</td>\n",
       "    </tr>\n",
       "    <tr>\n",
       "      <th>1</th>\n",
       "      <td>1</td>\n",
       "      <td>35381</td>\n",
       "      <td>1860-01-02</td>\n",
       "      <td>46</td>\n",
       "      <td>0</td>\n",
       "      <td>46.0</td>\n",
       "      <td>4.6</td>\n",
       "      <td>114.8</td>\n",
       "    </tr>\n",
       "    <tr>\n",
       "      <th>2</th>\n",
       "      <td>1</td>\n",
       "      <td>35381</td>\n",
       "      <td>1860-01-03</td>\n",
       "      <td>31</td>\n",
       "      <td>0</td>\n",
       "      <td>31.0</td>\n",
       "      <td>3.1</td>\n",
       "      <td>87.8</td>\n",
       "    </tr>\n",
       "    <tr>\n",
       "      <th>3</th>\n",
       "      <td>1</td>\n",
       "      <td>35381</td>\n",
       "      <td>1860-01-04</td>\n",
       "      <td>37</td>\n",
       "      <td>0</td>\n",
       "      <td>37.0</td>\n",
       "      <td>3.7</td>\n",
       "      <td>98.6</td>\n",
       "    </tr>\n",
       "    <tr>\n",
       "      <th>4</th>\n",
       "      <td>1</td>\n",
       "      <td>35381</td>\n",
       "      <td>1860-01-05</td>\n",
       "      <td>31</td>\n",
       "      <td>0</td>\n",
       "      <td>31.0</td>\n",
       "      <td>3.1</td>\n",
       "      <td>87.8</td>\n",
       "    </tr>\n",
       "    <tr>\n",
       "      <th>...</th>\n",
       "      <td>...</td>\n",
       "      <td>...</td>\n",
       "      <td>...</td>\n",
       "      <td>...</td>\n",
       "      <td>...</td>\n",
       "      <td>...</td>\n",
       "      <td>...</td>\n",
       "      <td>...</td>\n",
       "    </tr>\n",
       "    <tr>\n",
       "      <th>59316</th>\n",
       "      <td>1</td>\n",
       "      <td>35381</td>\n",
       "      <td>2022-05-27</td>\n",
       "      <td>-9999</td>\n",
       "      <td>9</td>\n",
       "      <td>NaN</td>\n",
       "      <td>NaN</td>\n",
       "      <td>NaN</td>\n",
       "    </tr>\n",
       "    <tr>\n",
       "      <th>59317</th>\n",
       "      <td>1</td>\n",
       "      <td>35381</td>\n",
       "      <td>2022-05-28</td>\n",
       "      <td>-9999</td>\n",
       "      <td>9</td>\n",
       "      <td>NaN</td>\n",
       "      <td>NaN</td>\n",
       "      <td>NaN</td>\n",
       "    </tr>\n",
       "    <tr>\n",
       "      <th>59318</th>\n",
       "      <td>1</td>\n",
       "      <td>35381</td>\n",
       "      <td>2022-05-29</td>\n",
       "      <td>-9999</td>\n",
       "      <td>9</td>\n",
       "      <td>NaN</td>\n",
       "      <td>NaN</td>\n",
       "      <td>NaN</td>\n",
       "    </tr>\n",
       "    <tr>\n",
       "      <th>59319</th>\n",
       "      <td>1</td>\n",
       "      <td>35381</td>\n",
       "      <td>2022-05-30</td>\n",
       "      <td>-9999</td>\n",
       "      <td>9</td>\n",
       "      <td>NaN</td>\n",
       "      <td>NaN</td>\n",
       "      <td>NaN</td>\n",
       "    </tr>\n",
       "    <tr>\n",
       "      <th>59320</th>\n",
       "      <td>1</td>\n",
       "      <td>35381</td>\n",
       "      <td>2022-05-31</td>\n",
       "      <td>-9999</td>\n",
       "      <td>9</td>\n",
       "      <td>NaN</td>\n",
       "      <td>NaN</td>\n",
       "      <td>NaN</td>\n",
       "    </tr>\n",
       "  </tbody>\n",
       "</table>\n",
       "<p>59321 rows × 8 columns</p>\n",
       "</div>"
      ],
      "text/plain": [
       "       STAID   SOUID       DATE     TG   Q_TG   TG0   TG  Fahrenheit\n",
       "0          1   35381 1860-01-01     21      0  21.0  2.1        69.8\n",
       "1          1   35381 1860-01-02     46      0  46.0  4.6       114.8\n",
       "2          1   35381 1860-01-03     31      0  31.0  3.1        87.8\n",
       "3          1   35381 1860-01-04     37      0  37.0  3.7        98.6\n",
       "4          1   35381 1860-01-05     31      0  31.0  3.1        87.8\n",
       "...      ...     ...        ...    ...    ...   ...  ...         ...\n",
       "59316      1   35381 2022-05-27  -9999      9   NaN  NaN         NaN\n",
       "59317      1   35381 2022-05-28  -9999      9   NaN  NaN         NaN\n",
       "59318      1   35381 2022-05-29  -9999      9   NaN  NaN         NaN\n",
       "59319      1   35381 2022-05-30  -9999      9   NaN  NaN         NaN\n",
       "59320      1   35381 2022-05-31  -9999      9   NaN  NaN         NaN\n",
       "\n",
       "[59321 rows x 8 columns]"
      ]
     },
     "execution_count": 22,
     "metadata": {},
     "output_type": "execute_result"
    }
   ],
   "source": [
    "df"
   ]
  },
  {
   "cell_type": "markdown",
   "id": "26f030c7-b67a-4f73-a8bf-108f44447208",
   "metadata": {},
   "source": [
    "## Plotting"
   ]
  },
  {
   "cell_type": "code",
   "execution_count": 23,
   "id": "382f7896-f6d1-4766-ae10-68fa938af459",
   "metadata": {},
   "outputs": [
    {
     "data": {
      "text/plain": [
       "<Axes: >"
      ]
     },
     "execution_count": 23,
     "metadata": {},
     "output_type": "execute_result"
    },
    {
     "data": {
      "image/png": "[encoded data removed]",
      "text/plain": [
       "<Figure size 640x480 with 1 Axes>"
      ]
     },
     "metadata": {},
     "output_type": "display_data"
    }
   ],
   "source": [
    "df[\"TG\"].hist()"
   ]
  },
  {
   "cell_type": "code",
   "execution_count": 24,
   "id": "527a5b4a-f06b-4152-951f-1f17117e93f7",
   "metadata": {},
   "outputs": [
    {
     "data": {
      "text/plain": [
       "<Axes: xlabel='    DATE'>"
      ]
     },
     "execution_count": 24,
     "metadata": {},
     "output_type": "execute_result"
    },
    {
     "data": {
      "image/png": "[encoded data removed]",
      "text/plain": [
       "<Figure size 1500x300 with 1 Axes>"
      ]
     },
     "metadata": {},
     "output_type": "display_data"
    }
   ],
   "source": [
    "df[10:20].plot(x='    DATE', y=\"TG\", figsize=(15,3))"
   ]
  },
  {
   "cell_type": "code",
   "execution_count": 25,
   "id": "4113b9e4-0813-4232-bb38-d97a243f3e2b",
   "metadata": {},
   "outputs": [
    {
     "data": {
      "text/plain": [
       "Index(['STAID', ' SOUID', '    DATE', '   TG', ' Q_TG', 'TG0', 'TG',\n",
       "       'Fahrenheit'],\n",
       "      dtype='object')"
      ]
     },
     "execution_count": 25,
     "metadata": {},
     "output_type": "execute_result"
    }
   ],
   "source": [
    "df.columns"
   ]
  },
  {
   "cell_type": "code",
   "execution_count": 26,
   "id": "804add39-4dba-4f4b-a86b-71128ff79bc8",
   "metadata": {},
   "outputs": [
    {
     "data": {
      "text/html": [
       "<div>\n",
       "<style scoped>\n",
       "    .dataframe tbody tr th:only-of-type {\n",
       "        vertical-align: middle;\n",
       "    }\n",
       "\n",
       "    .dataframe tbody tr th {\n",
       "        vertical-align: top;\n",
       "    }\n",
       "\n",
       "    .dataframe thead th {\n",
       "        text-align: right;\n",
       "    }\n",
       "</style>\n",
       "<table border=\"1\" class=\"dataframe\">\n",
       "  <thead>\n",
       "    <tr style=\"text-align: right;\">\n",
       "      <th></th>\n",
       "      <th>STAID</th>\n",
       "      <th>STANAME</th>\n",
       "      <th>CN</th>\n",
       "      <th>LAT</th>\n",
       "      <th>LON</th>\n",
       "      <th>HGHT</th>\n",
       "    </tr>\n",
       "  </thead>\n",
       "  <tbody>\n",
       "    <tr>\n",
       "      <th>0</th>\n",
       "      <td>1</td>\n",
       "      <td>VAEXJOE</td>\n",
       "      <td>SE</td>\n",
       "      <td>+56:52:00</td>\n",
       "      <td>+014:48:00</td>\n",
       "      <td>166</td>\n",
       "    </tr>\n",
       "    <tr>\n",
       "      <th>1</th>\n",
       "      <td>2</td>\n",
       "      <td>FALUN</td>\n",
       "      <td>SE</td>\n",
       "      <td>+60:37:00</td>\n",
       "      <td>+015:37:00</td>\n",
       "      <td>160</td>\n",
       "    </tr>\n",
       "    <tr>\n",
       "      <th>2</th>\n",
       "      <td>3</td>\n",
       "      <td>STENSELE</td>\n",
       "      <td>SE</td>\n",
       "      <td>+65:04:00</td>\n",
       "      <td>+017:09:59</td>\n",
       "      <td>325</td>\n",
       "    </tr>\n",
       "    <tr>\n",
       "      <th>3</th>\n",
       "      <td>4</td>\n",
       "      <td>LINKOEPING</td>\n",
       "      <td>SE</td>\n",
       "      <td>+58:24:00</td>\n",
       "      <td>+015:31:59</td>\n",
       "      <td>93</td>\n",
       "    </tr>\n",
       "    <tr>\n",
       "      <th>4</th>\n",
       "      <td>5</td>\n",
       "      <td>LINKOEPING-MALMSLAETT</td>\n",
       "      <td>SE</td>\n",
       "      <td>+58:24:00</td>\n",
       "      <td>+015:31:59</td>\n",
       "      <td>93</td>\n",
       "    </tr>\n",
       "    <tr>\n",
       "      <th>...</th>\n",
       "      <td>...</td>\n",
       "      <td>...</td>\n",
       "      <td>...</td>\n",
       "      <td>...</td>\n",
       "      <td>...</td>\n",
       "      <td>...</td>\n",
       "    </tr>\n",
       "    <tr>\n",
       "      <th>6449</th>\n",
       "      <td>25149</td>\n",
       "      <td>LEBORK</td>\n",
       "      <td>PL</td>\n",
       "      <td>+54:33:11</td>\n",
       "      <td>+017:43:24</td>\n",
       "      <td>44</td>\n",
       "    </tr>\n",
       "    <tr>\n",
       "      <th>6450</th>\n",
       "      <td>25150</td>\n",
       "      <td>GDANSK-REBIECHOWO_OLD</td>\n",
       "      <td>PL</td>\n",
       "      <td>+54:22:59</td>\n",
       "      <td>+018:28:00</td>\n",
       "      <td>144</td>\n",
       "    </tr>\n",
       "    <tr>\n",
       "      <th>6451</th>\n",
       "      <td>25151</td>\n",
       "      <td>ELBLAG-MILEJEWO</td>\n",
       "      <td>PL</td>\n",
       "      <td>+54:13:23</td>\n",
       "      <td>+019:32:36</td>\n",
       "      <td>151</td>\n",
       "    </tr>\n",
       "    <tr>\n",
       "      <th>6452</th>\n",
       "      <td>25156</td>\n",
       "      <td>KROSNO</td>\n",
       "      <td>PL</td>\n",
       "      <td>+49:42:24</td>\n",
       "      <td>+021:46:09</td>\n",
       "      <td>326</td>\n",
       "    </tr>\n",
       "    <tr>\n",
       "      <th>6453</th>\n",
       "      <td>25157</td>\n",
       "      <td>YLJA KRAFTVERK</td>\n",
       "      <td>NO</td>\n",
       "      <td>+61:11:49</td>\n",
       "      <td>+008:22:50</td>\n",
       "      <td>517</td>\n",
       "    </tr>\n",
       "  </tbody>\n",
       "</table>\n",
       "<p>6454 rows × 6 columns</p>\n",
       "</div>"
      ],
      "text/plain": [
       "      STAID  STANAME                                   CN        LAT  \\\n",
       "0         1  VAEXJOE                                   SE  +56:52:00   \n",
       "1         2  FALUN                                     SE  +60:37:00   \n",
       "2         3  STENSELE                                  SE  +65:04:00   \n",
       "3         4  LINKOEPING                                SE  +58:24:00   \n",
       "4         5  LINKOEPING-MALMSLAETT                     SE  +58:24:00   \n",
       "...     ...                                       ...  ..        ...   \n",
       "6449  25149  LEBORK                                    PL  +54:33:11   \n",
       "6450  25150  GDANSK-REBIECHOWO_OLD                     PL  +54:22:59   \n",
       "6451  25151  ELBLAG-MILEJEWO                           PL  +54:13:23   \n",
       "6452  25156  KROSNO                                    PL  +49:42:24   \n",
       "6453  25157  YLJA KRAFTVERK                            NO  +61:11:49   \n",
       "\n",
       "             LON   HGHT  \n",
       "0     +014:48:00    166  \n",
       "1     +015:37:00    160  \n",
       "2     +017:09:59    325  \n",
       "3     +015:31:59     93  \n",
       "4     +015:31:59     93  \n",
       "...          ...    ...  \n",
       "6449  +017:43:24     44  \n",
       "6450  +018:28:00    144  \n",
       "6451  +019:32:36    151  \n",
       "6452  +021:46:09    326  \n",
       "6453  +008:22:50    517  \n",
       "\n",
       "[6454 rows x 6 columns]"
      ]
     },
     "execution_count": 26,
     "metadata": {},
     "output_type": "execute_result"
    }
   ],
   "source": [
    "stations = pd.read_csv(\"datasets/data-small/stations.txt\", skiprows=17)\n",
    "stations"
   ]
  },
  {
   "cell_type": "code",
   "execution_count": 27,
   "id": "82366a09-2006-42cc-b9b9-b85bdf820ae7",
   "metadata": {},
   "outputs": [
    {
     "data": {
      "text/plain": [
       "Index(['STAID', 'STANAME                                 ', 'CN', '      LAT',\n",
       "       '       LON', 'HGHT'],\n",
       "      dtype='object')"
      ]
     },
     "execution_count": 27,
     "metadata": {},
     "output_type": "execute_result"
    }
   ],
   "source": [
    "stations.columns"
   ]
  },
  {
   "cell_type": "code",
   "execution_count": 28,
   "id": "55ef391e-6902-4af8-88c0-ae790fc68f69",
   "metadata": {},
   "outputs": [],
   "source": [
    "import pandas as pd"
   ]
  },
  {
   "cell_type": "code",
   "execution_count": 29,
   "id": "7d293521-8fb2-42fc-8f68-6bd96e11f143",
   "metadata": {},
   "outputs": [],
   "source": [
    "stations = pd.read_csv(\"datasets/data-small/stations.txt\", skiprows=17)"
   ]
  },
  {
   "cell_type": "code",
   "execution_count": 30,
   "id": "606fd0cc-1d20-4440-a423-353d28b2e803",
   "metadata": {},
   "outputs": [
    {
     "data": {
      "text/html": [
       "<div>\n",
       "<style scoped>\n",
       "    .dataframe tbody tr th:only-of-type {\n",
       "        vertical-align: middle;\n",
       "    }\n",
       "\n",
       "    .dataframe tbody tr th {\n",
       "        vertical-align: top;\n",
       "    }\n",
       "\n",
       "    .dataframe thead th {\n",
       "        text-align: right;\n",
       "    }\n",
       "</style>\n",
       "<table border=\"1\" class=\"dataframe\">\n",
       "  <thead>\n",
       "    <tr style=\"text-align: right;\">\n",
       "      <th></th>\n",
       "      <th>STAID</th>\n",
       "      <th>STANAME</th>\n",
       "      <th>CN</th>\n",
       "      <th>LAT</th>\n",
       "      <th>LON</th>\n",
       "      <th>HGHT</th>\n",
       "    </tr>\n",
       "  </thead>\n",
       "  <tbody>\n",
       "    <tr>\n",
       "      <th>0</th>\n",
       "      <td>1</td>\n",
       "      <td>VAEXJOE</td>\n",
       "      <td>SE</td>\n",
       "      <td>+56:52:00</td>\n",
       "      <td>+014:48:00</td>\n",
       "      <td>166</td>\n",
       "    </tr>\n",
       "    <tr>\n",
       "      <th>1</th>\n",
       "      <td>2</td>\n",
       "      <td>FALUN</td>\n",
       "      <td>SE</td>\n",
       "      <td>+60:37:00</td>\n",
       "      <td>+015:37:00</td>\n",
       "      <td>160</td>\n",
       "    </tr>\n",
       "    <tr>\n",
       "      <th>2</th>\n",
       "      <td>3</td>\n",
       "      <td>STENSELE</td>\n",
       "      <td>SE</td>\n",
       "      <td>+65:04:00</td>\n",
       "      <td>+017:09:59</td>\n",
       "      <td>325</td>\n",
       "    </tr>\n",
       "    <tr>\n",
       "      <th>3</th>\n",
       "      <td>4</td>\n",
       "      <td>LINKOEPING</td>\n",
       "      <td>SE</td>\n",
       "      <td>+58:24:00</td>\n",
       "      <td>+015:31:59</td>\n",
       "      <td>93</td>\n",
       "    </tr>\n",
       "    <tr>\n",
       "      <th>4</th>\n",
       "      <td>5</td>\n",
       "      <td>LINKOEPING-MALMSLAETT</td>\n",
       "      <td>SE</td>\n",
       "      <td>+58:24:00</td>\n",
       "      <td>+015:31:59</td>\n",
       "      <td>93</td>\n",
       "    </tr>\n",
       "    <tr>\n",
       "      <th>...</th>\n",
       "      <td>...</td>\n",
       "      <td>...</td>\n",
       "      <td>...</td>\n",
       "      <td>...</td>\n",
       "      <td>...</td>\n",
       "      <td>...</td>\n",
       "    </tr>\n",
       "    <tr>\n",
       "      <th>6449</th>\n",
       "      <td>25149</td>\n",
       "      <td>LEBORK</td>\n",
       "      <td>PL</td>\n",
       "      <td>+54:33:11</td>\n",
       "      <td>+017:43:24</td>\n",
       "      <td>44</td>\n",
       "    </tr>\n",
       "    <tr>\n",
       "      <th>6450</th>\n",
       "      <td>25150</td>\n",
       "      <td>GDANSK-REBIECHOWO_OLD</td>\n",
       "      <td>PL</td>\n",
       "      <td>+54:22:59</td>\n",
       "      <td>+018:28:00</td>\n",
       "      <td>144</td>\n",
       "    </tr>\n",
       "    <tr>\n",
       "      <th>6451</th>\n",
       "      <td>25151</td>\n",
       "      <td>ELBLAG-MILEJEWO</td>\n",
       "      <td>PL</td>\n",
       "      <td>+54:13:23</td>\n",
       "      <td>+019:32:36</td>\n",
       "      <td>151</td>\n",
       "    </tr>\n",
       "    <tr>\n",
       "      <th>6452</th>\n",
       "      <td>25156</td>\n",
       "      <td>KROSNO</td>\n",
       "      <td>PL</td>\n",
       "      <td>+49:42:24</td>\n",
       "      <td>+021:46:09</td>\n",
       "      <td>326</td>\n",
       "    </tr>\n",
       "    <tr>\n",
       "      <th>6453</th>\n",
       "      <td>25157</td>\n",
       "      <td>YLJA KRAFTVERK</td>\n",
       "      <td>NO</td>\n",
       "      <td>+61:11:49</td>\n",
       "      <td>+008:22:50</td>\n",
       "      <td>517</td>\n",
       "    </tr>\n",
       "  </tbody>\n",
       "</table>\n",
       "<p>6454 rows × 6 columns</p>\n",
       "</div>"
      ],
      "text/plain": [
       "      STAID  STANAME                                   CN        LAT  \\\n",
       "0         1  VAEXJOE                                   SE  +56:52:00   \n",
       "1         2  FALUN                                     SE  +60:37:00   \n",
       "2         3  STENSELE                                  SE  +65:04:00   \n",
       "3         4  LINKOEPING                                SE  +58:24:00   \n",
       "4         5  LINKOEPING-MALMSLAETT                     SE  +58:24:00   \n",
       "...     ...                                       ...  ..        ...   \n",
       "6449  25149  LEBORK                                    PL  +54:33:11   \n",
       "6450  25150  GDANSK-REBIECHOWO_OLD                     PL  +54:22:59   \n",
       "6451  25151  ELBLAG-MILEJEWO                           PL  +54:13:23   \n",
       "6452  25156  KROSNO                                    PL  +49:42:24   \n",
       "6453  25157  YLJA KRAFTVERK                            NO  +61:11:49   \n",
       "\n",
       "             LON  HGHT  \n",
       "0     +014:48:00   166  \n",
       "1     +015:37:00   160  \n",
       "2     +017:09:59   325  \n",
       "3     +015:31:59    93  \n",
       "4     +015:31:59    93  \n",
       "...          ...   ...  \n",
       "6449  +017:43:24    44  \n",
       "6450  +018:28:00   144  \n",
       "6451  +019:32:36   151  \n",
       "6452  +021:46:09   326  \n",
       "6453  +008:22:50   517  \n",
       "\n",
       "[6454 rows x 6 columns]"
      ]
     },
     "execution_count": 30,
     "metadata": {},
     "output_type": "execute_result"
    }
   ],
   "source": [
    "stations"
   ]
  },
  {
   "cell_type": "code",
   "execution_count": 31,
   "id": "6d140639-9382-41c7-83d1-0e43809c1021",
   "metadata": {},
   "outputs": [
    {
     "data": {
      "text/plain": [
       "Index(['STAID', 'STANAME                                 ', 'CN', '      LAT',\n",
       "       '       LON', 'HGHT'],\n",
       "      dtype='object')"
      ]
     },
     "execution_count": 31,
     "metadata": {},
     "output_type": "execute_result"
    }
   ],
   "source": [
    "stations.columns"
   ]
  },
  {
   "cell_type": "code",
   "execution_count": 32,
   "id": "dedff8aa-bb16-4f0b-a5ed-27cded57fa2a",
   "metadata": {},
   "outputs": [
    {
     "data": {
      "text/plain": [
       "pandas.core.indexes.base.Index"
      ]
     },
     "execution_count": 32,
     "metadata": {},
     "output_type": "execute_result"
    }
   ],
   "source": [
    "type(stations.columns)"
   ]
  },
  {
   "cell_type": "code",
   "execution_count": 33,
   "id": "65192f25-5044-48be-af64-abdad4233d7e",
   "metadata": {},
   "outputs": [
    {
     "data": {
      "text/plain": [
       "('STAID', 'STANAME                                 ')"
      ]
     },
     "execution_count": 33,
     "metadata": {},
     "output_type": "execute_result"
    }
   ],
   "source": [
    "stations.columns[0], stations.columns[1]"
   ]
  },
  {
   "cell_type": "code",
   "execution_count": 44,
   "id": "0d9d72bd-28ce-4f2c-bb00-bb52ced57d26",
   "metadata": {},
   "outputs": [],
   "source": [
    "get_id_list = stations['STAID'].to_list()"
   ]
  },
  {
   "cell_type": "code",
   "execution_count": 43,
   "id": "9a73c403-4c76-4397-80bf-cd60962fb007",
   "metadata": {},
   "outputs": [
    {
     "ename": "TypeError",
     "evalue": "sequence item 0: expected str instance, list found",
     "output_type": "error",
     "traceback": [
      "\u001b[1;31m---------------------------------------------------------------------------\u001b[0m",
      "\u001b[1;31mTypeError\u001b[0m                                 Traceback (most recent call last)",
      "Cell \u001b[1;32mIn[43], line 1\u001b[0m\n\u001b[1;32m----> 1\u001b[0m \u001b[38;5;124;43m\"\u001b[39;49m\u001b[38;5;124;43m\"\u001b[39;49m\u001b[38;5;241;43m.\u001b[39;49m\u001b[43mjoin\u001b[49m\u001b[43m(\u001b[49m\u001b[43mget_id_list\u001b[49m\u001b[43m \u001b[49m\u001b[38;5;28;43;01mfor\u001b[39;49;00m\u001b[43m \u001b[49m\u001b[43mi\u001b[49m\u001b[43m \u001b[49m\u001b[38;5;129;43;01min\u001b[39;49;00m\u001b[43m \u001b[49m\u001b[43mstations\u001b[49m\u001b[43m[\u001b[49m\u001b[38;5;124;43m\"\u001b[39;49m\u001b[38;5;124;43mSTAID\u001b[39;49m\u001b[38;5;124;43m\"\u001b[39;49m\u001b[43m]\u001b[49m\u001b[43m)\u001b[49m\n",
      "\u001b[1;31mTypeError\u001b[0m: sequence item 0: expected str instance, list found"
     ]
    }
   ],
   "source": [
    "\"\".join(get_id_list for i in stations[\"STAID\"])"
   ]
  },
  {
   "cell_type": "code",
   "execution_count": null,
   "id": "d697d16a-eda8-4eca-8735-b9454ecfdc19",
   "metadata": {},
   "outputs": [],
   "source": [
    "teste = \", \".join(map(str, stations['STAID'].to_list()))"
   ]
  },
  {
   "cell_type": "code",
   "execution_count": null,
   "id": "781b666d-efd0-4b63-ad9e-7e4bb90a4cdb",
   "metadata": {},
   "outputs": [],
   "source": [
    "stations"
   ]
  },
  {
   "cell_type": "code",
   "execution_count": null,
   "id": "5427accf-ac9d-4c14-9baa-5d4968180794",
   "metadata": {},
   "outputs": [],
   "source": [
    "stations[[\"STAID\", \"STANAME                                 \"]]"
   ]
  },
  {
   "cell_type": "code",
   "execution_count": null,
   "id": "dad3848a-dbd2-4bf4-a67a-076f0be1046f",
   "metadata": {},
   "outputs": [],
   "source": [
    "df"
   ]
  },
  {
   "cell_type": "code",
   "execution_count": null,
   "id": "d33ad7c7-4e3f-4068-8f18-a6a471df3ac2",
   "metadata": {},
   "outputs": [],
   "source": [
    "df.columns"
   ]
  },
  {
   "cell_type": "code",
   "execution_count": null,
   "id": "d751174b-b84f-4566-93e0-743d8f0a1a11",
   "metadata": {},
   "outputs": [],
   "source": [
    "df[4].loc[\"1860\" in df[\"    DATE\"][\"   TG\"]"
   ]
  },
  {
   "cell_type": "code",
   "execution_count": null,
   "id": "efab6bfe-ac35-4ca4-929d-223411c422ee",
   "metadata": {},
   "outputs": [],
   "source": [
    "df[\"STAID\"][4][df[\"    DATE\"].str.contains(\"1860\")]"
   ]
  },
  {
   "cell_type": "code",
   "execution_count": null,
   "id": "d00df263-be5a-41e3-b160-84bcf94ea388",
   "metadata": {},
   "outputs": [],
   "source": [
    "df.loc[df[\"STAID\"] == 1, \"    DATE\"].astype(str).str.contains(\"1860\")"
   ]
  },
  {
   "cell_type": "code",
   "execution_count": null,
   "id": "8ab33a54-f9c4-4b43-a1fe-6044f8abc26b",
   "metadata": {},
   "outputs": [],
   "source": [
    "df.loc[(df[\"STAID\"] == 1) & (df[\"    DATE\"].astype(str).str.contains(\"1860\"))]"
   ]
  }
 ],
 "metadata": {
  "kernelspec": {
   "display_name": "Python 3 (ipykernel)",
   "language": "python",
   "name": "python3"
  },
  "language_info": {
   "codemirror_mode": {
    "name": "ipython",
    "version": 3
   },
   "file_extension": ".py",
   "mimetype": "text/x-python",
   "name": "python",
   "nbconvert_exporter": "python",
   "pygments_lexer": "ipython3",
   "version": "3.13.2"
  }
 },
 "nbformat": 4,
 "nbformat_minor": 5
}
