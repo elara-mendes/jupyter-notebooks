{
 "cells": [
  {
   "cell_type": "markdown",
   "id": "348857fb-8372-445d-a40f-939563d112d1",
   "metadata": {},
   "source": [
    "## Descobrindo encoding"
   ]
  },
  {
   "cell_type": "code",
   "execution_count": 1,
   "id": "742530e2-0607-4e66-9ed6-e1188e7ee177",
   "metadata": {},
   "outputs": [
    {
     "name": "stdout",
     "output_type": "stream",
     "text": [
      "{'encoding': 'ISO-8859-1', 'confidence': 0.73, 'language': ''}\n"
     ]
    }
   ],
   "source": [
    "import chardet\n",
    "\n",
    "with open(\"datasets/licitacoes.csv\", \"rb\") as f:\n",
    "    result = chardet.detect(f.read(10000))\n",
    "    print(result)"
   ]
  }
 ],
 "metadata": {
  "kernelspec": {
   "display_name": "Python 3 (ipykernel)",
   "language": "python",
   "name": "python3"
  },
  "language_info": {
   "codemirror_mode": {
    "name": "ipython",
    "version": 3
   },
   "file_extension": ".py",
   "mimetype": "text/x-python",
   "name": "python",
   "nbconvert_exporter": "python",
   "pygments_lexer": "ipython3",
   "version": "3.13.2"
  }
 },
 "nbformat": 4,
 "nbformat_minor": 5
}
